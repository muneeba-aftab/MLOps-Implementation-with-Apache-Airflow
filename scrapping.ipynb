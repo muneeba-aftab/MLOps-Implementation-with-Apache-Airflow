{
 "cells": [
  {
   "cell_type": "code",
   "execution_count": 3,
   "id": "e3cab0bc-cec4-4cb1-b5c0-a221829b3d10",
   "metadata": {},
   "outputs": [
    {
     "name": "stdout",
     "output_type": "stream",
     "text": [
      "Data has been successfully written to:  bbc_articles_scrapped.json\n"
     ]
    }
   ],
   "source": [
    "import requests\n",
    "from bs4 import BeautifulSoup\n",
    "from urllib.parse import urljoin\n",
    "import json\n",
    "\n",
    "# Base URLs of news sites\n",
    "bbc_base_url = \"https://www.bbc.com\"\n",
    "dawn_base_url = \"https://www.dawn.com\"\n",
    "\n",
    "# Initialize an empty list to store articles\n",
    "articles = []\n",
    "\n",
    "# Function to get article links\n",
    "def getting_article_links(base_url):\n",
    "    response = requests.get(base_url)\n",
    "    soup = BeautifulSoup(response.content, 'html.parser')\n",
    "    article_links = [urljoin(base_url, link['href']) for link in soup.find_all('a', href=True)]\n",
    "    return article_links\n",
    "\n",
    "# Function to get article content\n",
    "def getting_article_content(url):\n",
    "    response = requests.get(url)\n",
    "    soup = BeautifulSoup(response.content, 'html.parser')\n",
    "    title = soup.find('h1').text if soup.find('h1') else ''\n",
    "    description = soup.find('meta', {'name': 'description'})['content'] if soup.find('meta', {'name': 'description'}) else ''\n",
    "    return title, description\n",
    "\n",
    "# Fetch article links and their content from BBC\n",
    "links = getting_article_links(bbc_base_url)\n",
    "\n",
    "for link in links:\n",
    "    try:\n",
    "        title, description = getting_article_content(link)\n",
    "        # Add each article to the articles list\n",
    "        articles.append({\"title\": title, \"description\": description})\n",
    "    except Exception as e:\n",
    "        print(f\"Error with URL {link}: {e}\")\n",
    "\n",
    "# Save articles data to a JSON file\n",
    "output_path = 'bbc_articles_scrapped.json'\n",
    "with open(output_path, 'w', encoding='utf-8') as json_file:\n",
    "    json.dump(articles, json_file, ensure_ascii=False, indent=4)\n",
    "\n",
    "print(f\"Data has been successfully written to:  {output_path}\")"
   ]
  },
  {
   "cell_type": "code",
   "execution_count": 7,
   "id": "1fa723ff-3919-42b0-945b-74dcd141379a",
   "metadata": {},
   "outputs": [
    {
     "name": "stdout",
     "output_type": "stream",
     "text": [
      "Cleaned data successfully written to bbc_articles_cleaned_text.json\n"
     ]
    },
    {
     "name": "stderr",
     "output_type": "stream",
     "text": [
      "<>:7: SyntaxWarning: invalid escape sequence '\\s'\n",
      "<>:7: SyntaxWarning: invalid escape sequence '\\s'\n",
      "C:\\Users\\Muneeba\\AppData\\Local\\Temp\\ipykernel_10980\\2359414329.py:7: SyntaxWarning: invalid escape sequence '\\s'\n",
      "  text = re.sub('\\s+', ' ', text).strip()  # Remove extra spaces and newlines\n"
     ]
    }
   ],
   "source": [
    "import json\n",
    "import re\n",
    "\n",
    "# Function to clean text\n",
    "def cleaning_text(text):\n",
    "    text = re.sub('<.*?>', '', text)  # Remove HTML tags\n",
    "    text = re.sub('\\s+', ' ', text).strip()  # Remove extra spaces and newlines\n",
    "    return text\n",
    "\n",
    "# Load data from the existing JSON file\n",
    "input_path = 'bbc_articles_scrapped.json'\n",
    "with open(input_path, 'r', encoding='utf-8') as json_file:\n",
    "    articles = json.load(json_file)\n",
    "\n",
    "# Clean each article's title and description\n",
    "for article in articles:\n",
    "    article['title'] = cleaning_text(article.get('title', ''))\n",
    "    article['description'] = cleaning_text(article.get('description', ''))\n",
    "\n",
    "# Save cleaned data to a new JSON file\n",
    "output_path = 'bbc_articles_cleaned_text.json'\n",
    "with open(output_path, 'w', encoding='utf-8') as json_file:\n",
    "    json.dump(articles, json_file, ensure_ascii=False, indent=4)\n",
    "\n",
    "print(f\"Cleaned data successfully written to {output_path}\")"
   ]
  },
  {
   "cell_type": "code",
   "execution_count": 2,
   "id": "88f7ed41-c94d-4140-9ac5-bb76f8ecfb75",
   "metadata": {},
   "outputs": [
    {
     "name": "stdout",
     "output_type": "stream",
     "text": [
      "Collecting pydrive\n",
      "  Downloading PyDrive-1.3.1.tar.gz (987 kB)\n",
      "     ---------------------------------------- 0.0/987.4 kB ? eta -:--:--\n",
      "     ---------------------------------------- 10.2/987.4 kB ? eta -:--:--\n",
      "     ---------------------------------------- 10.2/987.4 kB ? eta -:--:--\n",
      "      ------------------------------------ 20.5/987.4 kB 108.9 kB/s eta 0:00:09\n",
      "     - ----------------------------------- 30.7/987.4 kB 145.2 kB/s eta 0:00:07\n",
      "     - ----------------------------------- 41.0/987.4 kB 163.4 kB/s eta 0:00:06\n",
      "     -- ---------------------------------- 61.4/987.4 kB 217.9 kB/s eta 0:00:05\n",
      "     --- --------------------------------- 92.2/987.4 kB 290.5 kB/s eta 0:00:04\n",
      "     ---- ------------------------------- 122.9/987.4 kB 359.9 kB/s eta 0:00:03\n",
      "     ------ ----------------------------- 174.1/987.4 kB 436.9 kB/s eta 0:00:02\n",
      "     ------- ---------------------------- 204.8/987.4 kB 478.0 kB/s eta 0:00:02\n",
      "     -------- --------------------------- 235.5/987.4 kB 514.3 kB/s eta 0:00:02\n",
      "     ---------- ------------------------- 286.7/987.4 kB 570.1 kB/s eta 0:00:02\n",
      "     ----------- ------------------------ 307.2/987.4 kB 593.9 kB/s eta 0:00:02\n",
      "     ----------- ------------------------ 307.2/987.4 kB 593.9 kB/s eta 0:00:02\n",
      "     ----------- ------------------------ 307.2/987.4 kB 593.9 kB/s eta 0:00:02\n",
      "     --------------- -------------------- 419.8/987.4 kB 639.0 kB/s eta 0:00:01\n",
      "     ---------------- ------------------- 450.6/987.4 kB 626.3 kB/s eta 0:00:01\n",
      "     ------------------ ----------------- 501.8/987.4 kB 655.4 kB/s eta 0:00:01\n",
      "     ------------------- ---------------- 532.5/987.4 kB 667.8 kB/s eta 0:00:01\n",
      "     -------------------- --------------- 563.2/987.4 kB 680.1 kB/s eta 0:00:01\n",
      "     ---------------------- ------------- 614.4/987.4 kB 690.5 kB/s eta 0:00:01\n",
      "     ----------------------- ------------ 645.1/987.4 kB 700.0 kB/s eta 0:00:01\n",
      "     -------------------------- --------- 716.8/987.4 kB 729.2 kB/s eta 0:00:01\n",
      "     -------------------------- --------- 716.8/987.4 kB 729.2 kB/s eta 0:00:01\n",
      "     -------------------------- --------- 716.8/987.4 kB 729.2 kB/s eta 0:00:01\n",
      "     -------------------------- --------- 716.8/987.4 kB 729.2 kB/s eta 0:00:01\n",
      "     ------------------------------- ---- 860.2/987.4 kB 755.5 kB/s eta 0:00:01\n",
      "     --------------------------------- -- 911.4/987.4 kB 768.9 kB/s eta 0:00:01\n",
      "     -----------------------------------  962.6/987.4 kB 781.2 kB/s eta 0:00:01\n",
      "     ------------------------------------ 987.4/987.4 kB 781.8 kB/s eta 0:00:00\n",
      "  Installing build dependencies: started\n",
      "  Installing build dependencies: finished with status 'done'\n",
      "  Getting requirements to build wheel: started\n",
      "  Getting requirements to build wheel: finished with status 'done'\n",
      "  Installing backend dependencies: started\n",
      "  Installing backend dependencies: finished with status 'done'\n",
      "  Preparing metadata (pyproject.toml): started\n",
      "  Preparing metadata (pyproject.toml): finished with status 'done'\n",
      "Requirement already satisfied: google-api-python-client>=1.2 in c:\\users\\muneeba\\appdata\\local\\programs\\python\\python312\\lib\\site-packages (from pydrive) (2.127.0)\n",
      "Requirement already satisfied: oauth2client>=4.0.0 in c:\\users\\muneeba\\appdata\\local\\programs\\python\\python312\\lib\\site-packages (from pydrive) (4.1.3)\n",
      "Requirement already satisfied: PyYAML>=3.0 in c:\\users\\muneeba\\appdata\\local\\programs\\python\\python312\\lib\\site-packages (from pydrive) (6.0.1)\n",
      "Requirement already satisfied: httplib2<1.dev0,>=0.19.0 in c:\\users\\muneeba\\appdata\\local\\programs\\python\\python312\\lib\\site-packages (from google-api-python-client>=1.2->pydrive) (0.22.0)\n",
      "Requirement already satisfied: google-auth!=2.24.0,!=2.25.0,<3.0.0.dev0,>=1.32.0 in c:\\users\\muneeba\\appdata\\local\\programs\\python\\python312\\lib\\site-packages (from google-api-python-client>=1.2->pydrive) (2.29.0)\n",
      "Requirement already satisfied: google-auth-httplib2<1.0.0,>=0.2.0 in c:\\users\\muneeba\\appdata\\local\\programs\\python\\python312\\lib\\site-packages (from google-api-python-client>=1.2->pydrive) (0.2.0)\n",
      "Requirement already satisfied: google-api-core!=2.0.*,!=2.1.*,!=2.2.*,!=2.3.0,<3.0.0.dev0,>=1.31.5 in c:\\users\\muneeba\\appdata\\local\\programs\\python\\python312\\lib\\site-packages (from google-api-python-client>=1.2->pydrive) (2.18.0)\n",
      "Requirement already satisfied: uritemplate<5,>=3.0.1 in c:\\users\\muneeba\\appdata\\local\\programs\\python\\python312\\lib\\site-packages (from google-api-python-client>=1.2->pydrive) (4.1.1)\n",
      "Requirement already satisfied: pyasn1>=0.1.7 in c:\\users\\muneeba\\appdata\\local\\programs\\python\\python312\\lib\\site-packages (from oauth2client>=4.0.0->pydrive) (0.6.0)\n",
      "Requirement already satisfied: pyasn1-modules>=0.0.5 in c:\\users\\muneeba\\appdata\\local\\programs\\python\\python312\\lib\\site-packages (from oauth2client>=4.0.0->pydrive) (0.4.0)\n",
      "Requirement already satisfied: rsa>=3.1.4 in c:\\users\\muneeba\\appdata\\local\\programs\\python\\python312\\lib\\site-packages (from oauth2client>=4.0.0->pydrive) (4.9)\n",
      "Requirement already satisfied: six>=1.6.1 in c:\\users\\muneeba\\appdata\\local\\programs\\python\\python312\\lib\\site-packages (from oauth2client>=4.0.0->pydrive) (1.16.0)\n",
      "Requirement already satisfied: googleapis-common-protos<2.0.dev0,>=1.56.2 in c:\\users\\muneeba\\appdata\\local\\programs\\python\\python312\\lib\\site-packages (from google-api-core!=2.0.*,!=2.1.*,!=2.2.*,!=2.3.0,<3.0.0.dev0,>=1.31.5->google-api-python-client>=1.2->pydrive) (1.63.0)\n",
      "Requirement already satisfied: protobuf!=3.20.0,!=3.20.1,!=4.21.0,!=4.21.1,!=4.21.2,!=4.21.3,!=4.21.4,!=4.21.5,<5.0.0.dev0,>=3.19.5 in c:\\users\\muneeba\\appdata\\local\\programs\\python\\python312\\lib\\site-packages (from google-api-core!=2.0.*,!=2.1.*,!=2.2.*,!=2.3.0,<3.0.0.dev0,>=1.31.5->google-api-python-client>=1.2->pydrive) (4.25.3)\n",
      "Requirement already satisfied: proto-plus<2.0.0dev,>=1.22.3 in c:\\users\\muneeba\\appdata\\local\\programs\\python\\python312\\lib\\site-packages (from google-api-core!=2.0.*,!=2.1.*,!=2.2.*,!=2.3.0,<3.0.0.dev0,>=1.31.5->google-api-python-client>=1.2->pydrive) (1.23.0)\n",
      "Requirement already satisfied: requests<3.0.0.dev0,>=2.18.0 in c:\\users\\muneeba\\appdata\\local\\programs\\python\\python312\\lib\\site-packages (from google-api-core!=2.0.*,!=2.1.*,!=2.2.*,!=2.3.0,<3.0.0.dev0,>=1.31.5->google-api-python-client>=1.2->pydrive) (2.31.0)\n",
      "Requirement already satisfied: cachetools<6.0,>=2.0.0 in c:\\users\\muneeba\\appdata\\local\\programs\\python\\python312\\lib\\site-packages (from google-auth!=2.24.0,!=2.25.0,<3.0.0.dev0,>=1.32.0->google-api-python-client>=1.2->pydrive) (5.3.3)\n",
      "Requirement already satisfied: pyparsing!=3.0.0,!=3.0.1,!=3.0.2,!=3.0.3,<4,>=2.4.2 in c:\\users\\muneeba\\appdata\\local\\programs\\python\\python312\\lib\\site-packages (from httplib2<1.dev0,>=0.19.0->google-api-python-client>=1.2->pydrive) (3.1.2)\n",
      "Requirement already satisfied: charset-normalizer<4,>=2 in c:\\users\\muneeba\\appdata\\local\\programs\\python\\python312\\lib\\site-packages (from requests<3.0.0.dev0,>=2.18.0->google-api-core!=2.0.*,!=2.1.*,!=2.2.*,!=2.3.0,<3.0.0.dev0,>=1.31.5->google-api-python-client>=1.2->pydrive) (3.3.2)\n",
      "Requirement already satisfied: idna<4,>=2.5 in c:\\users\\muneeba\\appdata\\local\\programs\\python\\python312\\lib\\site-packages (from requests<3.0.0.dev0,>=2.18.0->google-api-core!=2.0.*,!=2.1.*,!=2.2.*,!=2.3.0,<3.0.0.dev0,>=1.31.5->google-api-python-client>=1.2->pydrive) (3.6)\n",
      "Requirement already satisfied: urllib3<3,>=1.21.1 in c:\\users\\muneeba\\appdata\\local\\programs\\python\\python312\\lib\\site-packages (from requests<3.0.0.dev0,>=2.18.0->google-api-core!=2.0.*,!=2.1.*,!=2.2.*,!=2.3.0,<3.0.0.dev0,>=1.31.5->google-api-python-client>=1.2->pydrive) (2.2.1)\n",
      "Requirement already satisfied: certifi>=2017.4.17 in c:\\users\\muneeba\\appdata\\local\\programs\\python\\python312\\lib\\site-packages (from requests<3.0.0.dev0,>=2.18.0->google-api-core!=2.0.*,!=2.1.*,!=2.2.*,!=2.3.0,<3.0.0.dev0,>=1.31.5->google-api-python-client>=1.2->pydrive) (2024.2.2)\n",
      "Building wheels for collected packages: pydrive\n",
      "  Building wheel for pydrive (pyproject.toml): started\n",
      "  Building wheel for pydrive (pyproject.toml): finished with status 'done'\n",
      "  Created wheel for pydrive: filename=PyDrive-1.3.1-py3-none-any.whl size=27462 sha256=f8b02a8a86fb7e057136f4dc399ea649eefeacfaac45960f5c97267ff84f7eac\n",
      "  Stored in directory: c:\\users\\muneeba\\appdata\\local\\pip\\cache\\wheels\\6c\\10\\da\\a5b513f5b3916fc391c20ee7b4633e5cf3396d570cdd74970f\n",
      "Successfully built pydrive\n",
      "Installing collected packages: pydrive\n",
      "Successfully installed pydrive-1.3.1\n"
     ]
    }
   ],
   "source": [
    "!pip install pydrive"
   ]
  },
  {
   "cell_type": "code",
   "execution_count": 1,
   "id": "94190395-a2f0-4155-a412-393366106975",
   "metadata": {},
   "outputs": [
    {
     "name": "stdout",
     "output_type": "stream",
     "text": [
      "Your browser has been opened to visit:\n",
      "\n",
      "    https://accounts.google.com/o/oauth2/auth?client_id=461645083159-nq6vu5pdur3ua86lldafjik3msc9cetp.apps.googleusercontent.com&redirect_uri=http%3A%2F%2Flocalhost%3A8080%2F&scope=https%3A%2F%2Fwww.googleapis.com%2Fauth%2Fdrive&access_type=offline&response_type=code\n",
      "\n",
      "Authentication successful.\n"
     ]
    }
   ],
   "source": [
    "from pydrive.auth import GoogleAuth\n",
    "from pydrive.drive import GoogleDrive\n",
    "\n",
    "# Set the path to your client secrets file\n",
    "client_secrets_path = 'client_secrets.json'\n",
    "\n",
    "# Authenticate with Google Drive\n",
    "gauth = GoogleAuth()\n",
    "gauth.LoadClientConfigFile(client_secrets_path)\n",
    "gauth.LocalWebserverAuth()\n",
    "\n",
    "# Initialize Google Drive client\n",
    "drive = GoogleDrive(gauth)\n",
    "\n",
    "# Example function to upload a file\n",
    "def upload_file_to_drive(file_path, drive_folder_id):\n",
    "    file = drive.CreateFile({'parents': [{'id': drive_folder_id}]})\n",
    "    file.SetContentFile(file_path)\n",
    "    file.Upload()\n",
    "\n",
    "\n",
    "drive_folder_id = \"16dfWbMm1NqvcEUhEENU9Uxn33QGV2qzv\"\n",
    "file_path = r\"C:\\Users\\Muneeba\\Downloads\\i202656_Assignment#2\\bbc_articles_cleaned.json\""
   ]
  },
  {
   "cell_type": "code",
   "execution_count": null,
   "id": "caff29a2-1d5b-4e9a-9ffb-4b057339444b",
   "metadata": {},
   "outputs": [],
   "source": []
  }
 ],
 "metadata": {
  "kernelspec": {
   "display_name": "Python 3 (ipykernel)",
   "language": "python",
   "name": "python3"
  },
  "language_info": {
   "codemirror_mode": {
    "name": "ipython",
    "version": 3
   },
   "file_extension": ".py",
   "mimetype": "text/x-python",
   "name": "python",
   "nbconvert_exporter": "python",
   "pygments_lexer": "ipython3",
   "version": "3.12.2"
  }
 },
 "nbformat": 4,
 "nbformat_minor": 5
}
